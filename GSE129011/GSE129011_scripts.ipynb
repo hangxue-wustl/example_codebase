{
 "cells": [
  {
   "attachments": {},
   "cell_type": "markdown",
   "id": "09bf1b24",
   "metadata": {},
   "source": [
    "This workflow is run on Savio cluster to compare the MPIPK strain to the Golor4 MGH1 strain reference using MPIPK RNAseq GSE129011. \n",
    "Some tools are already available on Savio."
   ]
  },
  {
   "cell_type": "code",
   "execution_count": 2,
   "id": "428b41d8-051e-4b72-b8c9-cd64da5346b8",
   "metadata": {},
   "outputs": [],
   "source": [
    "!export MODULEPATH=${MODULEPATH}:/clusterfs/vector/home/groups/software/sl-7.x86_64/modfiles\n",
    "!cd /global/scratch/users/hangxue/GSE129011"
   ]
  },
  {
   "cell_type": "code",
   "execution_count": null,
   "id": "5c1b82f7",
   "metadata": {},
   "outputs": [],
   "source": [
    "import functions\n",
    "import pandas as pd\n",
    "import numpy as np\n",
    "import seaborn as sns\n",
    "import matplotlib.pyplot as plt"
   ]
  },
  {
   "attachments": {},
   "cell_type": "markdown",
   "id": "c051deb9",
   "metadata": {},
   "source": [
    "# Get fastq files of GSE129011 from ncbi "
   ]
  },
  {
   "cell_type": "code",
   "execution_count": 8,
   "id": "102a8b6d-d690-4589-aa6c-034b00521d15",
   "metadata": {},
   "outputs": [
    {
     "name": "stdout",
     "output_type": "stream",
     "text": [
      "--2024-07-24 15:03:03--  https://trace.ncbi.nlm.nih.gov/Traces/sra-reads-be/fasta?acc=SRR8800751\n",
      "Resolving trace.ncbi.nlm.nih.gov (trace.ncbi.nlm.nih.gov)... 130.14.29.113, 2607:f220:41e:4290::113\n",
      "Connecting to trace.ncbi.nlm.nih.gov (trace.ncbi.nlm.nih.gov)|130.14.29.113|:443... connected.\n",
      "HTTP request sent, awaiting response... 200 OK\n",
      "Length: unspecified [application/x-gzip]\n",
      "Saving to: ‘fasta?acc=SRR8800751’\n",
      "\n",
      "fasta?acc=SRR880075     [    <=>             ] 118.28M  1024KB/s    in 1m 57s  \n",
      "\n",
      "2024-07-24 15:05:02 (1.01 MB/s) - ‘fasta?acc=SRR8800751’ saved [124023589]\n",
      "\n",
      "--2024-07-24 15:05:02--  https://trace.ncbi.nlm.nih.gov/Traces/sra-reads-be/fasta?acc=SRR8800752\n",
      "Resolving trace.ncbi.nlm.nih.gov (trace.ncbi.nlm.nih.gov)... 130.14.29.113, 2607:f220:41e:4290::113\n",
      "Connecting to trace.ncbi.nlm.nih.gov (trace.ncbi.nlm.nih.gov)|130.14.29.113|:443... connected.\n",
      "HTTP request sent, awaiting response... 200 OK\n",
      "Length: unspecified [application/x-gzip]\n",
      "Saving to: ‘fasta?acc=SRR8800752’\n",
      "\n",
      "fasta?acc=SRR880075     [              <=>   ]  77.46M  1.03MB/s    in 76s     \n",
      "\n",
      "2024-07-24 15:06:20 (1.02 MB/s) - ‘fasta?acc=SRR8800752’ saved [81226482]\n",
      "\n",
      "--2024-07-24 15:06:20--  https://trace.ncbi.nlm.nih.gov/Traces/sra-reads-be/fasta?acc=SRR8800753\n",
      "Resolving trace.ncbi.nlm.nih.gov (trace.ncbi.nlm.nih.gov)... 130.14.29.113, 2607:f220:41e:4290::113\n",
      "Connecting to trace.ncbi.nlm.nih.gov (trace.ncbi.nlm.nih.gov)|130.14.29.113|:443... connected.\n",
      "HTTP request sent, awaiting response... 200 OK\n",
      "Length: unspecified [application/x-gzip]\n",
      "Saving to: ‘fasta?acc=SRR8800753’\n",
      "\n",
      "fasta?acc=SRR880075     [ <=>                ] 370.39M   986KB/s    in 6m 5s   \n",
      "\n",
      "2024-07-24 15:12:27 (1.02 MB/s) - ‘fasta?acc=SRR8800753’ saved [388381010]\n",
      "\n",
      "--2024-07-24 15:12:27--  https://trace.ncbi.nlm.nih.gov/Traces/sra-reads-be/fasta?acc=SRR8800754\n",
      "Resolving trace.ncbi.nlm.nih.gov (trace.ncbi.nlm.nih.gov)... 130.14.29.113, 2607:f220:41e:4290::113\n",
      "Connecting to trace.ncbi.nlm.nih.gov (trace.ncbi.nlm.nih.gov)|130.14.29.113|:443... connected.\n",
      "HTTP request sent, awaiting response... 200 OK\n",
      "Length: unspecified [application/x-gzip]\n",
      "Saving to: ‘fasta?acc=SRR8800754’\n",
      "\n",
      "fasta?acc=SRR880075     [           <=>      ] 335.22M  1.07MB/s    in 5m 6s   \n",
      "\n",
      "2024-07-24 15:17:35 (1.10 MB/s) - ‘fasta?acc=SRR8800754’ saved [351502398]\n",
      "\n",
      "--2024-07-24 15:17:35--  https://trace.ncbi.nlm.nih.gov/Traces/sra-reads-be/fasta?acc=SRR8800755\n",
      "Resolving trace.ncbi.nlm.nih.gov (trace.ncbi.nlm.nih.gov)... 130.14.29.113, 2607:f220:41e:4290::113\n",
      "Connecting to trace.ncbi.nlm.nih.gov (trace.ncbi.nlm.nih.gov)|130.14.29.113|:443... connected.\n",
      "HTTP request sent, awaiting response... 200 OK\n",
      "Length: unspecified [application/x-gzip]\n",
      "Saving to: ‘fasta?acc=SRR8800755’\n",
      "\n",
      "fasta?acc=SRR880075     [  <=>               ] 205.72M  1.16MB/s    in 3m 10s  \n",
      "\n",
      "2024-07-24 15:20:47 (1.08 MB/s) - ‘fasta?acc=SRR8800755’ saved [215717093]\n",
      "\n",
      "--2024-07-24 15:20:47--  https://trace.ncbi.nlm.nih.gov/Traces/sra-reads-be/fasta?acc=\n",
      "Resolving trace.ncbi.nlm.nih.gov (trace.ncbi.nlm.nih.gov)... 130.14.29.113, 2607:f220:41e:4290::113\n",
      "Connecting to trace.ncbi.nlm.nih.gov (trace.ncbi.nlm.nih.gov)|130.14.29.113|:443... connected.\n",
      "HTTP request sent, awaiting response... 403 No accession nor TIs proivded\n",
      "2024-07-24 15:20:48 ERROR 403: No accession nor TIs proivded.\n",
      "\n"
     ]
    }
   ],
   "source": [
    "!while read line; do wget https://trace.ncbi.nlm.nih.gov/Traces/sra-reads-be/fasta?acc=${line}; done < /global/scratch/users/hangxue/GSE129011/list_of_ids"
   ]
  },
  {
   "attachments": {},
   "cell_type": "markdown",
   "id": "186b6285",
   "metadata": {},
   "source": [
    "# Download images and prepare files"
   ]
  },
  {
   "cell_type": "code",
   "execution_count": null,
   "id": "5a2159f7-3584-4b02-ab50-c42e758095ac",
   "metadata": {},
   "outputs": [],
   "source": [
    "!singularity pull docker://trinityrnaseq/trinityrnaseq\n",
    "!singularity pull docker://informationsea/minimap2\n",
    "!singularity pull docker://ncbi/blast\n",
    "!singularity pull docker://dceoy/samtools\n",
    "!cat /global/scratch/users/hangxue/GSE129011/*.fastq.gz > /global/scratch/users/hangxue/GSE129011/Col_0_pathogen.fastq.gz"
   ]
  },
  {
   "attachments": {},
   "cell_type": "markdown",
   "id": "8ef2b9b1-1516-4cc4-aa95-d012ea8da4c5",
   "metadata": {},
   "source": [
    "## The followings do not run successfully to the formatting issues in fastq.gz files (a space is added after each line). \n",
    "\n",
    "fastp -i /global/scratch/users/hangxue/GSE129011/SRR8800754.fastq.gz -o /global/scratch/users/hangxue/GSE129011/SRR8800754_fastp.fastq.gz\n",
    "\n",
    "It seems the GSE129011 reads are already filtered and trimmed. \n",
    "\n",
    "The following salmon codes are able to run with the fastq.gz files. "
   ]
  },
  {
   "cell_type": "code",
   "execution_count": null,
   "id": "08d19211-7e1a-4659-9b6d-d3341c059179",
   "metadata": {},
   "outputs": [],
   "source": [
    "!salmon index -t /global/scratch/users/hangxue/golor4/Golor4_GeneCatalog_transcripts_20191030.nt.fasta.gz -i /global/scratch/users/hangxue/golor4/Golor4_transcripts_index\n",
    "!salmon quant -i /global/scratch/users/hangxue/golor4/Golor4_transcripts_index -l A -r /global/scratch/users/hangxue/Metatranscript/12531.2.262702.AGTCTCA-GTGAGAC.filter-RNA.fastq.gz --validateMappings -o /global/scratch/users/hangxue/Metatranscript/transcripts_quant\n",
    "!salmon quant -i /global/scratch/users/hangxue/golor4/Golor4_transcripts_index -l A -r /global/scratch/users/hangxue/GSE129011/*fastq.gz --validateMappings -o /global/scratch/users/hangxue/GSE129011/transcripts_quant\n"
   ]
  },
  {
   "cell_type": "code",
   "execution_count": 10,
   "id": "c108e2c7-7e45-434f-b4a4-00bbcc551b55",
   "metadata": {},
   "outputs": [],
   "source": [
    "salmon_quant = pd.read_csv('/global/scratch/users/hangxue/GSE129011/transcripts_quant_Col_0_pathogen_all_reps/quant.sf', sep = '\\t')\n"
   ]
  },
  {
   "cell_type": "code",
   "execution_count": 11,
   "id": "6753b6d3-a7fe-410d-a90e-67c80c2f0835",
   "metadata": {},
   "outputs": [
    {
     "data": {
      "text/html": [
       "<div>\n",
       "<style scoped>\n",
       "    .dataframe tbody tr th:only-of-type {\n",
       "        vertical-align: middle;\n",
       "    }\n",
       "\n",
       "    .dataframe tbody tr th {\n",
       "        vertical-align: top;\n",
       "    }\n",
       "\n",
       "    .dataframe thead th {\n",
       "        text-align: right;\n",
       "    }\n",
       "</style>\n",
       "<table border=\"1\" class=\"dataframe\">\n",
       "  <thead>\n",
       "    <tr style=\"text-align: right;\">\n",
       "      <th></th>\n",
       "      <th>Name</th>\n",
       "      <th>Length</th>\n",
       "      <th>EffectiveLength</th>\n",
       "      <th>TPM</th>\n",
       "      <th>NumReads</th>\n",
       "    </tr>\n",
       "  </thead>\n",
       "  <tbody>\n",
       "    <tr>\n",
       "      <th>0</th>\n",
       "      <td>jgi|Golor4|1001102|CE993891_4688</td>\n",
       "      <td>1456</td>\n",
       "      <td>1206.0</td>\n",
       "      <td>12.358011</td>\n",
       "      <td>4.000</td>\n",
       "    </tr>\n",
       "    <tr>\n",
       "      <th>1</th>\n",
       "      <td>jgi|Golor4|100422|CE93211_6069</td>\n",
       "      <td>1996</td>\n",
       "      <td>1746.0</td>\n",
       "      <td>21.370446</td>\n",
       "      <td>10.014</td>\n",
       "    </tr>\n",
       "    <tr>\n",
       "      <th>2</th>\n",
       "      <td>jgi|Golor4|1004245|CE997034_6875</td>\n",
       "      <td>1049</td>\n",
       "      <td>799.0</td>\n",
       "      <td>18.653018</td>\n",
       "      <td>4.000</td>\n",
       "    </tr>\n",
       "    <tr>\n",
       "      <th>3</th>\n",
       "      <td>jgi|Golor4|1004507|CE997296_84</td>\n",
       "      <td>572</td>\n",
       "      <td>322.0</td>\n",
       "      <td>0.000000</td>\n",
       "      <td>0.000</td>\n",
       "    </tr>\n",
       "    <tr>\n",
       "      <th>4</th>\n",
       "      <td>jgi|Golor4|1004532|CE997321_16493</td>\n",
       "      <td>1851</td>\n",
       "      <td>1601.0</td>\n",
       "      <td>23.272581</td>\n",
       "      <td>10.000</td>\n",
       "    </tr>\n",
       "    <tr>\n",
       "      <th>...</th>\n",
       "      <td>...</td>\n",
       "      <td>...</td>\n",
       "      <td>...</td>\n",
       "      <td>...</td>\n",
       "      <td>...</td>\n",
       "    </tr>\n",
       "    <tr>\n",
       "      <th>12602</th>\n",
       "      <td>jgi|Golor4|99767|CE92556_3246</td>\n",
       "      <td>1293</td>\n",
       "      <td>1043.0</td>\n",
       "      <td>8.241620</td>\n",
       "      <td>2.307</td>\n",
       "    </tr>\n",
       "    <tr>\n",
       "      <th>12603</th>\n",
       "      <td>jgi|Golor4|999345|CE992134_2871</td>\n",
       "      <td>615</td>\n",
       "      <td>365.0</td>\n",
       "      <td>0.000000</td>\n",
       "      <td>0.000</td>\n",
       "    </tr>\n",
       "    <tr>\n",
       "      <th>12604</th>\n",
       "      <td>jgi|Golor4|999353|CE992142_15068</td>\n",
       "      <td>2585</td>\n",
       "      <td>2335.0</td>\n",
       "      <td>34.768434</td>\n",
       "      <td>21.789</td>\n",
       "    </tr>\n",
       "    <tr>\n",
       "      <th>12605</th>\n",
       "      <td>jgi|Golor4|99938|CE92727_5311</td>\n",
       "      <td>3455</td>\n",
       "      <td>3205.0</td>\n",
       "      <td>0.000000</td>\n",
       "      <td>0.000</td>\n",
       "    </tr>\n",
       "    <tr>\n",
       "      <th>12606</th>\n",
       "      <td>jgi|Golor4|999759|CE992548_11802</td>\n",
       "      <td>1385</td>\n",
       "      <td>1135.0</td>\n",
       "      <td>0.000000</td>\n",
       "      <td>0.000</td>\n",
       "    </tr>\n",
       "  </tbody>\n",
       "</table>\n",
       "<p>12607 rows × 5 columns</p>\n",
       "</div>"
      ],
      "text/plain": [
       "                                    Name  Length  EffectiveLength        TPM  \\\n",
       "0       jgi|Golor4|1001102|CE993891_4688    1456           1206.0  12.358011   \n",
       "1         jgi|Golor4|100422|CE93211_6069    1996           1746.0  21.370446   \n",
       "2       jgi|Golor4|1004245|CE997034_6875    1049            799.0  18.653018   \n",
       "3         jgi|Golor4|1004507|CE997296_84     572            322.0   0.000000   \n",
       "4      jgi|Golor4|1004532|CE997321_16493    1851           1601.0  23.272581   \n",
       "...                                  ...     ...              ...        ...   \n",
       "12602      jgi|Golor4|99767|CE92556_3246    1293           1043.0   8.241620   \n",
       "12603    jgi|Golor4|999345|CE992134_2871     615            365.0   0.000000   \n",
       "12604   jgi|Golor4|999353|CE992142_15068    2585           2335.0  34.768434   \n",
       "12605      jgi|Golor4|99938|CE92727_5311    3455           3205.0   0.000000   \n",
       "12606   jgi|Golor4|999759|CE992548_11802    1385           1135.0   0.000000   \n",
       "\n",
       "       NumReads  \n",
       "0         4.000  \n",
       "1        10.014  \n",
       "2         4.000  \n",
       "3         0.000  \n",
       "4        10.000  \n",
       "...         ...  \n",
       "12602     2.307  \n",
       "12603     0.000  \n",
       "12604    21.789  \n",
       "12605     0.000  \n",
       "12606     0.000  \n",
       "\n",
       "[12607 rows x 5 columns]"
      ]
     },
     "execution_count": 11,
     "metadata": {},
     "output_type": "execute_result"
    }
   ],
   "source": [
    "salmon_quant"
   ]
  },
  {
   "attachments": {},
   "cell_type": "markdown",
   "id": "ad3c0780",
   "metadata": {},
   "source": [
    "# Use Trinity to assembly transcripts from GSE129011 and compare the assembled transcripts to Golor4"
   ]
  },
  {
   "attachments": {},
   "cell_type": "markdown",
   "id": "114bf885",
   "metadata": {},
   "source": [
    "## Assemble transcripts"
   ]
  },
  {
   "cell_type": "code",
   "execution_count": 2,
   "id": "940b56eb-f1ed-40ee-9566-8edb69785377",
   "metadata": {},
   "outputs": [
    {
     "name": "stdout",
     "output_type": "stream",
     "text": [
      "/global/scratch/users/hangxue/GSE129011/trinity_Col_0_pathogen.fasta_outdir\n"
     ]
    }
   ],
   "source": [
    "fastq_folder = \"/global/scratch/users/hangxue/GSE129011\"\n",
    "library = \"Col_0_pathogen.fasta\"\n",
    "seqtype = \"fa\"\n",
    "functions.trinity_helper(fastq_folder, library, seqtype)"
   ]
  },
  {
   "attachments": {},
   "cell_type": "markdown",
   "id": "95bfa2a9",
   "metadata": {},
   "source": [
    "## Compare assembled transcripts to Golor4 using blast"
   ]
  },
  {
   "attachments": {},
   "cell_type": "markdown",
   "id": "8f731bbe-c4d0-45b3-ab6a-53381c9daa98",
   "metadata": {},
   "source": [
    "Tried to use Golor4_GeneCatalog_transcripts_20191030.nt.fasta but blast does not like the JGI header with |. Used Golor4_AssemblyScaffolds.cds.fasta"
   ]
  },
  {
   "cell_type": "code",
   "execution_count": null,
   "id": "1b220e75-e992-4562-a83b-f5e44a7ca95a",
   "metadata": {},
   "outputs": [],
   "source": [
    "input_folder = \"/global/scratch/users/hangxue/golor4\"\n",
    "reference = \"Golor4_AssemblyScaffolds.cds.fasta\"\n",
    "functions.blast_makedb(input_folder, reference)"
   ]
  },
  {
   "cell_type": "code",
   "execution_count": null,
   "id": "46485431-a4ab-4c91-98cc-d8f5cd15b67b",
   "metadata": {},
   "outputs": [],
   "source": [
    "input_folder = \"/global/scratch/users/hangxue/GSE129011\"\n",
    "db = \"Golor4_AssemblyScaffolds\"\n",
    "outdir =\"/global/scratch/users/hangxue/GSE129011/trinity_Col_0_pathogen.fasta_outdir\" \n",
    "query = \"trinity.Trinity.fasta\"\n",
    "functions.blastn(input_folder, query, db, outdir)"
   ]
  },
  {
   "cell_type": "code",
   "execution_count": 9,
   "id": "fd9415b1-5e3b-48d1-9e7e-1a01bdc3e1e6",
   "metadata": {},
   "outputs": [
    {
     "name": "stderr",
     "output_type": "stream",
     "text": [
      "/global/software/rocky-8.x86_64/manual/modules/langs/anaconda3/2024.02-1/lib/python3.11/site-packages/seaborn/_oldcore.py:1119: FutureWarning: use_inf_as_na option is deprecated and will be removed in a future version. Convert inf values to NaN before operating instead.\n",
      "  with pd.option_context('mode.use_inf_as_na', True):\n"
     ]
    },
    {
     "data": {
      "image/png": "[encoded data removed]",
      "text/plain": [
       "<Figure size 1000x600 with 1 Axes>"
      ]
     },
     "metadata": {},
     "output_type": "display_data"
    }
   ],
   "source": [
    "# Plot the distribution of the \"score\" column\n",
    "plt.figure(figsize=(10, 6))\n",
    "sns.histplot(input_file['score'], kde=True)\n",
    "plt.title('Blastn similarity %')\n",
    "plt.xlabel('Similarity %')\n",
    "plt.ylabel('Frequency')\n",
    "plt.xlim(100, 0)\n",
    "plt.show()"
   ]
  },
  {
   "attachments": {},
   "cell_type": "markdown",
   "id": "1a9c6094",
   "metadata": {},
   "source": [
    "## Map assembled transcripts to the reference using minimap2"
   ]
  },
  {
   "attachments": {},
   "cell_type": "markdown",
   "id": "6a54667e",
   "metadata": {},
   "source": [
    "### minimap 2"
   ]
  },
  {
   "cell_type": "code",
   "execution_count": 3,
   "id": "edeaacfd-e9f8-4fdc-9d38-f6c74f9f61d3",
   "metadata": {},
   "outputs": [
    {
     "name": "stdout",
     "output_type": "stream",
     "text": [
      "[M::mm_idx_gen::4.910*1.54] collected minimizers\n",
      "[M::mm_idx_gen::6.268*1.85] sorted minimizers\n",
      "[M::main::8.780*1.61] loaded/built the index for 123 target sequence(s)\n",
      "[M::mm_idx_stat] kmer size: 15; skip: 10; is_hpc: 0; #seq: 123\n",
      "[M::mm_idx_stat::9.144*1.58] distinct minimizers: 14567558 (56.74% are singletons); average occurrences: 2.715; average spacing: 5.344\n",
      "[M::main] Version: 2.17-r941\n",
      "[M::main] CMD: /usr/local/bin/minimap2 -d /input/Golor4_AssemblyScaffolds.fasta.mmi /input/Golor4_AssemblyScaffolds.fasta\n",
      "[M::main] Real time: 9.194 sec; CPU: 14.508 sec; Peak RSS: 1.163 GB\n"
     ]
    }
   ],
   "source": [
    "input_folder = \"/global/scratch/users/hangxue/golor4\"\n",
    "fasta = \"Golor4_AssemblyScaffolds.fasta\"\n",
    "functions.minimap2_index(input_folder, fasta)"
   ]
  },
  {
   "cell_type": "code",
   "execution_count": 5,
   "id": "f42d0159-d98d-436d-9c1c-7807b714308e",
   "metadata": {},
   "outputs": [
    {
     "name": "stdout",
     "output_type": "stream",
     "text": [
      "[M::main::1.597*0.96] loaded/built the index for 123 target sequence(s)\n",
      "[M::mm_mapopt_update::1.919*0.97] mid_occ = 399\n",
      "[M::mm_idx_stat] kmer size: 15; skip: 10; is_hpc: 0; #seq: 123\n",
      "[M::mm_idx_stat::2.149*0.97] distinct minimizers: 14567558 (56.74% are singletons); average occurrences: 2.715; average spacing: 5.344\n",
      "[M::worker_pipeline::5.199*1.89] mapped 68268 sequences\n",
      "[M::main] Version: 2.17-r941\n",
      "[M::main] CMD: /usr/local/bin/minimap2 -a -o /outdir/trinity.Trinity.fasta_minimap.sam /input1/Golor4_AssemblyScaffolds.fasta.mmi /input2/trinity.Trinity.fasta\n",
      "[M::main] Real time: 5.242 sec; CPU: 9.880 sec; Peak RSS: 0.958 GB\n"
     ]
    }
   ],
   "source": [
    "input_folder1 = \"/global/scratch/users/hangxue/golor4\"\n",
    "input_folder2 = \"/global/scratch/users/hangxue/GSE129011/trinity_Col_0_pathogen.fasta_outdir\"\n",
    "reference = \"Golor4_AssemblyScaffolds.fasta.mmi\"\n",
    "trinity_assembly = \"trinity.Trinity.fasta\"\n",
    "functions.minimap2_map(input_folder1, input_folder2, reference, trinity_assembly)"
   ]
  },
  {
   "cell_type": "code",
   "execution_count": 2,
   "id": "1720ea49-d5f5-4c25-adc0-a53493238fad",
   "metadata": {},
   "outputs": [],
   "source": [
    "input_folder = \"/global/scratch/users/hangxue/GSE129011/trinity_Col_0_pathogen.fasta_outdir/minimap2_outdir\"\n",
    "file = \"trinity.Trinity.fasta_minimap.sam\"\n",
    "functions.samtools_sort(input_folder, file)"
   ]
  },
  {
   "attachments": {},
   "cell_type": "markdown",
   "id": "60649a59-8873-4f2e-9567-a24141f84ecc",
   "metadata": {},
   "source": [
    "### Process coverage"
   ]
  },
  {
   "cell_type": "code",
   "execution_count": 3,
   "id": "b86d4924-c9b7-48a7-8395-0452c9936d52",
   "metadata": {},
   "outputs": [],
   "source": [
    "input_folder = \"/global/scratch/users/hangxue/GSE129011/trinity_Col_0_pathogen.fasta_outdir/minimap2_outdir\"\n",
    "file = \"trinity.Trinity.fasta_minimap.sam.sort\"\n",
    "functions.samtools_cov(input_folder, file)"
   ]
  },
  {
   "cell_type": "code",
   "execution_count": null,
   "id": "d44a5c42-1b6e-44fc-9f6d-bd01a5781fd4",
   "metadata": {},
   "outputs": [],
   "source": [
    "input_folder = \"/global/scratch/users/hangxue/GSE129011/trinity_Col_0_pathogen.fasta_outdir/minimap2_outdir\"\n",
    "file = \"trinity.Trinity.fasta_minimap.sam.sort\"\n",
    "functions.samtools_dep(input_folder, file)"
   ]
  },
  {
   "cell_type": "code",
   "execution_count": 4,
   "id": "8923ca71-7a64-4853-a243-e3f20bd1f9e4",
   "metadata": {},
   "outputs": [],
   "source": [
    "column_names = ['scaffold', 'position', 'coverage']\n",
    "trinity_cov = pd.read_csv('/global/scratch/users/hangxue/GSE129011/trinity_Col_0_pathogen.fasta_outdir/minimap2_outdir/trinity.Trinity.fasta_minimap.sam.sort_dep.res', names=column_names, sep = '\\t')\n"
   ]
  },
  {
   "cell_type": "code",
   "execution_count": 8,
   "id": "885a9c84-34c3-4651-bb13-90a3ad6f5d1f",
   "metadata": {},
   "outputs": [
    {
     "name": "stdout",
     "output_type": "stream",
     "text": [
      "          scaffold  window  coverage\n",
      "0       Scaffold_1     266  1.000000\n",
      "1       Scaffold_1     267  1.000000\n",
      "2       Scaffold_1     308  1.000000\n",
      "3       Scaffold_1     309  0.908000\n",
      "4       Scaffold_1     310  0.908000\n",
      "...            ...     ...       ...\n",
      "14149   Scaffold_9   28787  0.843496\n",
      "14150  Scaffold_93      24  1.521851\n",
      "14151  Scaffold_93      25  2.000000\n",
      "14152  Scaffold_93      26  1.984000\n",
      "14153  Scaffold_93      27  2.000000\n",
      "\n",
      "[14154 rows x 3 columns]\n"
     ]
    }
   ],
   "source": [
    "window_size = 500\n",
    "\n",
    "df = trinity_cov\n",
    "# Calculate the window for each scaffold\n",
    "df['window'] = df['position'] // window_size\n",
    "max_positions = df.groupby('scaffold')['position'].max()\n",
    "# Calculate the mean coverage for each 1kb window for each scaffold\n",
    "mean_coverage = df.groupby(['scaffold', 'window'])['coverage'].mean().reset_index()\n",
    "\n",
    "print(mean_coverage)\n",
    "mean_coverage[\"start\"] = mean_coverage[\"window\"]*window_size\n",
    "mean_coverage[\"end\"] = mean_coverage[\"start\"]+window_size\n",
    "# cgeck max position\n",
    "mean_coverage['end'] = np.where(mean_coverage['end'] > mean_coverage['scaffold'].map(max_positions), mean_coverage['scaffold'].map(max_positions), mean_coverage['end'])\n",
    "new_df = mean_coverage[['scaffold', 'start', 'end', 'coverage']]\n",
    "new_df.to_csv(f\"/global/scratch/users/hangxue/GSE129011/trinity_Col_0_pathogen.fasta_outdir/minimap2_outdir/trinity_minimap_cov_{window_size}bp.csv\", index=False)"
   ]
  },
  {
   "attachments": {},
   "cell_type": "markdown",
   "id": "00349dd9",
   "metadata": {},
   "source": [
    "### Plot coverage in circos"
   ]
  },
  {
   "cell_type": "code",
   "execution_count": null,
   "id": "7396fa02",
   "metadata": {},
   "outputs": [],
   "source": [
    "import pycircos\n",
    "import matplotlib.pyplot as plt\n",
    "import collections\n",
    "\n",
    "Garc    = pycircos.Garc\n",
    "Gcircle = pycircos.Gcircle\n",
    "\n",
    "#Set chromosomes\n",
    "circle = Gcircle(figsize=(8,8)) \n",
    "with open(\"/Users/hangxue/Documents/Wildermuth_Lab/Genome_Paper/Circos/top20_longest_scaffolds.fasta_stat.xls\") as f:\n",
    "    for line in f:\n",
    "        line   = line.rstrip().split(\"\\t\") \n",
    "        name   = line[0]\n",
    "        length = int(line[-1]) \n",
    "        arc    = Garc(arc_id=name, size=length, interspace=2, raxis_range=(845,865), labelposition=80, label_visible=True)\n",
    "        circle.add_garc(arc) "
   ]
  },
  {
   "cell_type": "code",
   "execution_count": null,
   "id": "19e7119d",
   "metadata": {},
   "outputs": [],
   "source": [
    "circle.set_garcs(-100,245) "
   ]
  },
  {
   "cell_type": "code",
   "execution_count": null,
   "id": "a35989fd",
   "metadata": {},
   "outputs": [],
   "source": [
    "for arc_id in circle.garc_dict:\n",
    "    circle.tickplot(arc_id, raxis_range=(865,885), tickinterval=1000000, ticklabels=None) "
   ]
  },
  {
   "cell_type": "code",
   "execution_count": null,
   "id": "16459fdb",
   "metadata": {},
   "outputs": [],
   "source": [
    "values_all   = [] \n",
    "arcdata_dict = collections.defaultdict(dict)\n",
    "threshold = 1\n",
    "\n",
    "with open(\"/Users/hangxue/Documents/Wildermuth_Lab/Genome_Paper/Circos/trinity_minimap_cov_500bp.csv\") as f:\n",
    "    f.readline()\n",
    "    for line in f:\n",
    "        line  = line.rstrip().split(\",\")\n",
    "        name  = line[0]     \n",
    "        start = int(line[1])-1\n",
    "        end   = int(line[2]) \n",
    "        width = end-start \n",
    "        if name not in arcdata_dict:\n",
    "            arcdata_dict[name][\"positions\"] = []\n",
    "            arcdata_dict[name][\"widths\"]    = [] \n",
    "            arcdata_dict[name][\"values\"]    = [] \n",
    "        arcdata_dict[name][\"positions\"].append(start) \n",
    "        arcdata_dict[name][\"widths\"].append(width)\n",
    "        arcdata_dict[name][\"values\"].append(float(line[-1]))\n",
    "        values_all.append(float(line[-1]))\n",
    "\n",
    "vmin, vmax = min(values_all), min(values_all)+0.1\n",
    "for key in arcdata_dict:\n",
    "    try: \n",
    "        circle.heatmap(key, data=arcdata_dict[key][\"values\"], positions=arcdata_dict[key][\"positions\"], \n",
    "                    width=arcdata_dict[key][\"widths\"], raxis_range=[635,710], vmin=vmin, vmax=vmax, \n",
    "                    cmap=plt.cm.Reds)\n",
    "    except KeyError:\n",
    "        print(f\"Skipping key {key} as it is not present in arcdata_dict.\")\n",
    "        continue"
   ]
  },
  {
   "cell_type": "code",
   "execution_count": null,
   "id": "d2cf1ac7",
   "metadata": {},
   "outputs": [],
   "source": [
    "circle.figure"
   ]
  }
 ],
 "metadata": {
  "kernelspec": {
   "display_name": "Python 3 (ipykernel)",
   "language": "python",
   "name": "python3"
  },
  "language_info": {
   "codemirror_mode": {
    "name": "ipython",
    "version": 3
   },
   "file_extension": ".py",
   "mimetype": "text/x-python",
   "name": "python",
   "nbconvert_exporter": "python",
   "pygments_lexer": "ipython3",
   "version": "3.11.7"
  }
 },
 "nbformat": 4,
 "nbformat_minor": 5
}
