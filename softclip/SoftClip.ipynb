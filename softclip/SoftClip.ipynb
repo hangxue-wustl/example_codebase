{
 "cells": [
  {
   "attachments": {},
   "cell_type": "markdown",
   "id": "27c98b00",
   "metadata": {},
   "source": [
    "# SoftClip\n",
    "This notebook contains steps to look at soft-clipped regions of alignment in the sequencing library. Tools used: Trimmomatic, STAR, Pysamstats, SAMtools"
   ]
  },
  {
   "attachments": {},
   "cell_type": "markdown",
   "id": "a60b7423",
   "metadata": {},
   "source": [
    "## Imports"
   ]
  },
  {
   "cell_type": "code",
   "execution_count": null,
   "id": "02ec4dd0",
   "metadata": {},
   "outputs": [],
   "source": [
    "import softclip_functions"
   ]
  },
  {
   "attachments": {},
   "cell_type": "markdown",
   "id": "00795edc",
   "metadata": {},
   "source": [
    "# Import m_df"
   ]
  },
  {
   "cell_type": "code",
   "execution_count": null,
   "id": "0dad3a2d",
   "metadata": {},
   "outputs": [],
   "source": [
    "m_df = softclip_functions.get_m_df()\n",
    "m_df"
   ]
  },
  {
   "attachments": {},
   "cell_type": "markdown",
   "id": "1ae900f3",
   "metadata": {},
   "source": [
    "## Creating Libraries and relocating files"
   ]
  },
  {
   "cell_type": "code",
   "execution_count": 27,
   "id": "5ec318de",
   "metadata": {},
   "outputs": [],
   "source": [
    "softclip_functions.organize_folders(m_df)"
   ]
  },
  {
   "attachments": {},
   "cell_type": "markdown",
   "id": "9545e03e",
   "metadata": {},
   "source": [
    "## Trimmomatic\n",
    "This step also checks if fastq is already trimmed previously"
   ]
  },
  {
   "cell_type": "code",
   "execution_count": null,
   "id": "d36a1b6a",
   "metadata": {},
   "outputs": [],
   "source": [
    "#TODO enable multiprocessing\n",
    "softclip_functions.trimmomatic(m_df, clip_string)"
   ]
  },
  {
   "attachments": {},
   "cell_type": "markdown",
   "id": "c1634b8a",
   "metadata": {},
   "source": [
    "## Align with Chimerics\n",
    "This step indexes the genome dir and  has extra parameters that align fastq in a paired_end mode to reference and creates a chimeric.out.junction file for downstream analysis.   "
   ]
  },
  {
   "attachments": {},
   "cell_type": "markdown",
   "id": "3ee0b186",
   "metadata": {},
   "source": [
    "### Run STAR pair end"
   ]
  },
  {
   "cell_type": "code",
   "execution_count": null,
   "id": "882d8826",
   "metadata": {},
   "outputs": [],
   "source": [
    "#TODO enable multiprocessing\n",
    "softclip_functions.star_w_chimeric(m_df, n_cores)"
   ]
  },
  {
   "attachments": {},
   "cell_type": "markdown",
   "id": "e8bee2d0",
   "metadata": {},
   "source": [
    "### Assemble bam list"
   ]
  },
  {
   "cell_type": "code",
   "execution_count": null,
   "id": "743e7353",
   "metadata": {},
   "outputs": [],
   "source": [
    "bam_list = softclip_functions.get_bam_list(m_df)\n",
    "bam_list"
   ]
  },
  {
   "attachments": {},
   "cell_type": "markdown",
   "id": "55d5ce70",
   "metadata": {},
   "source": [
    "### Samtools index STAR chimeric bam"
   ]
  },
  {
   "cell_type": "code",
   "execution_count": null,
   "id": "a61713ce",
   "metadata": {},
   "outputs": [],
   "source": [
    "softclip_functions.samtools_index(bam_list, n_cores)\n",
    "softclip_functions.samtools_flagstat(bam_list, n_cores)\n"
   ]
  },
  {
   "attachments": {},
   "cell_type": "markdown",
   "id": "9d250dc3",
   "metadata": {},
   "source": [
    "### Pysamstats"
   ]
  },
  {
   "cell_type": "code",
   "execution_count": null,
   "id": "33293c2f",
   "metadata": {},
   "outputs": [],
   "source": [
    "softclip_functions.pysamstats(m_df, min_base_q)"
   ]
  },
  {
   "attachments": {},
   "cell_type": "markdown",
   "id": "24ffebe3",
   "metadata": {},
   "source": [
    "## Soft Clipped Positions\n",
    "This step requires pysamstats.csv from last step. This step counts positions that have been soft clipped and generates a table and a graph for visualization of heavily soft clipped regions, which may be indicative of structural variants. "
   ]
  },
  {
   "attachments": {},
   "cell_type": "markdown",
   "id": "569d1bbd",
   "metadata": {},
   "source": [
    "### Count and Plot soft clipped reads at each postion"
   ]
  },
  {
   "cell_type": "code",
   "execution_count": null,
   "id": "25395116",
   "metadata": {},
   "outputs": [],
   "source": [
    "softclip_functions.soft_clip(m_df, run, soft_clip_pct_t, omit_ends)"
   ]
  },
  {
   "attachments": {},
   "cell_type": "markdown",
   "id": "84ecd766",
   "metadata": {},
   "source": [
    "## Generate Report\n",
    "Please make sure SoftClip_report.Rmd is included in the working_dir"
   ]
  },
  {
   "cell_type": "code",
   "execution_count": null,
   "id": "84cb3458",
   "metadata": {},
   "outputs": [],
   "source": [
    "softclip_functions.generate_report(run, s3_suffix, omit_ends,report_threshold)"
   ]
  },
  {
   "attachments": {},
   "cell_type": "markdown",
   "id": "a9d61137",
   "metadata": {},
   "source": [
    "## Back up on S3"
   ]
  },
  {
   "cell_type": "code",
   "execution_count": null,
   "id": "86c8ec3f",
   "metadata": {},
   "outputs": [],
   "source": [
    "softclip_functions.backup_s3(bucket_string, s3_output_prefix, run)"
   ]
  }
 ],
 "metadata": {
  "kernelspec": {
   "display_name": "base",
   "language": "python",
   "name": "python3"
  },
  "language_info": {
   "codemirror_mode": {
    "name": "ipython",
    "version": 3
   },
   "file_extension": ".py",
   "mimetype": "text/x-python",
   "name": "python",
   "nbconvert_exporter": "python",
   "pygments_lexer": "ipython3",
   "version": "3.10.8"
  },
  "toc-autonumbering": false,
  "toc-showcode": false,
  "toc-showmarkdowntxt": false,
  "toc-showtags": false,
  "vscode": {
   "interpreter": {
    "hash": "7b6212d67362dedfc7fbfa37e985978a9bc6dbba52b8b157d1efa9646606e798"
   }
  }
 },
 "nbformat": 4,
 "nbformat_minor": 5
}
